{
 "cells": [
  {
   "cell_type": "code",
   "execution_count": 216,
   "id": "smart-poetry",
   "metadata": {},
   "outputs": [],
   "source": [
    "%run utilities\n",
    "%run noninteractive_utilities\n",
    "\n",
    "import pandas as pd\n",
    "\n",
    "plt.rcParams.update({\n",
    "    \"text.usetex\": True,\n",
    "    \"font.family\": \"sans-serif\",\n",
    "    \"font.sans-serif\": [\"Helvetica\"]})\n",
    "dpi = 300\n",
    "mpl.rcParams['figure.dpi']= dpi\n",
    "\n",
    "state = \"MD\"\n",
    "\n",
    "filename = \"data/chapter-0-ensemble-data/\" + state + \"/rundata_PRES16.csv\"\n",
    "\n",
    "seat_shares_and_vote_shares = (pd.read_csv(filename)).values\n",
    "seat_totals = seat_shares_and_vote_shares[:,1]\n",
    "vote_shares_by_district = 1 - seat_shares_and_vote_shares[:,2:]\n",
    "\n",
    "democrat_seat_shares = seat_totals/np.shape(vote_shares_by_district)[1]\n",
    "republican_seat_shares = 1 - democrat_seat_shares\n"
   ]
  },
  {
   "cell_type": "code",
   "execution_count": null,
   "id": "pharmaceutical-realtor",
   "metadata": {},
   "outputs": [
    {
     "name": "stdout",
     "output_type": "stream",
     "text": [
      "0.0%... 2.0%... 4.0%... 6.0%... 8.0%... 10.0%... 12.0%... 14.0%... 16.0%... 18.0%... 20.0%... 22.0%... 24.0%... 26.0%... 28.0%... 30.0%... 32.0%... 34.0%... 36.0%... 38.0%... 40.0%... 42.0%... 44.0%... 46.0%... 48.0%... 50.0%... 52.0%... 54.0%... 56.0%... 58.0%... 60.0%... 62.0%... 64.0%... 66.0%... 68.0%... 70.0%... 72.0%... 74.0%... 76.0%... 78.0%... 80.0%... 82.0%... 84.0%... 86.0%... 88.0%... 90.0%... 92.0%... 94.0%... "
     ]
    }
   ],
   "source": [
    "bulk_votes = []\n",
    "bulk_seats = []\n",
    "actual_vote_shares = []\n",
    "actual_seat_shares = []\n",
    "\n",
    "all_mean_medians = []\n",
    "all_beta_halves = []\n",
    "\n",
    "for i in range(np.shape(republican_seat_shares)[0]):\n",
    "    actual_vote_share = np.mean(vote_shares_by_district[i, :])\n",
    "    actual_seat_share = republican_seat_shares[i]\n",
    "    votes, seats = ups_linear(vote_shares_by_district[i, :])\n",
    "    \n",
    "    actual_seat_shares.append(actual_seat_share)\n",
    "    actual_vote_shares.append(actual_vote_share)\n",
    "    \n",
    "    bulk_votes.append(votes)\n",
    "    bulk_seats.append(seats)\n",
    "    \n",
    "    mean_median = 0.5 - compute_mean_median_intercept(votes, seats)\n",
    "    beta_half = compute_partisan_bias_intercept(votes, seats) - 0.5\n",
    "    all_mean_medians.append(mean_median)\n",
    "    all_beta_halves.append(beta_half)\n",
    "\n",
    "    if i % 1000 == 0:\n",
    "        print(str(100*i/(np.shape(republican_seat_shares)[0])) + \"%... \",end='')\n",
    "    \n"
   ]
  },
  {
   "cell_type": "code",
   "execution_count": null,
   "id": "minimal-ecology",
   "metadata": {},
   "outputs": [],
   "source": [
    "number_of_curves_to_plot = 1000\n",
    "reordering = np.random.permutation(len(actual_vote_shares))\n",
    "inds = (reordering[:number_of_curves_to_plot]).tolist()\n",
    "\n",
    "actual_vote_shares_subset = [actual_vote_shares[i] for i in inds]\n",
    "actual_seat_shares_subset = [actual_seat_shares[i] for i in inds]\n",
    "votes_subset = [bulk_votes[i] for i in inds]\n",
    "seats_subset = [bulk_seats[i] for i in inds]\n",
    "\n",
    "\n",
    "plot_bulk_ups(actual_vote_shares_subset, actual_seat_shares_subset, votes_subset, seats_subset, text=state,\n",
    "                  x_label=\"Average district Republican vote share\")"
   ]
  },
  {
   "cell_type": "code",
   "execution_count": null,
   "id": "dense-mississippi",
   "metadata": {},
   "outputs": [],
   "source": [
    "def plot_ensemble_histogram(x, x_label,y_label,seats=False):\n",
    "    fig = plt.figure()\n",
    "    ax = fig.add_subplot(111)\n",
    "    font_name = 'Helvetica'\n",
    "    font_size = 15\n",
    "    if seats:\n",
    "        bins = np.arange(min(x)-1.25,max(x) + 1.5,0.5)\n",
    "        ax.hist(x,bins=bins,color=[0.8,0.2,0.5,0.8])\n",
    "        ax.set_xticks(range(int(min(x)),int(max(x)+1)))\n",
    "    else:\n",
    "        ax.hist(x,100,color=[0.8,0.2,0.5,0.8])\n",
    "\n",
    "    ax.spines['top'].set_visible(False)\n",
    "    ax.spines['right'].set_visible(False)\n",
    "\n",
    "    ax.set_xlabel(x_label, fontname=font_name, fontsize=font_size)\n",
    "    ax.set_ylabel(y_label, fontname=font_name, fontsize=font_size)\n",
    "\n",
    "\n",
    "plot_ensemble_histogram(all_mean_medians, \"Mean-median\", \"Counts\")\n",
    "plot_ensemble_histogram(all_beta_halves,\"$\\\\beta(0.5)$\", \"Counts\")\n",
    "plot_ensemble_histogram(seat_totals,\"Seats for Democrats\", \"Counts\",seats=True)"
   ]
  },
  {
   "cell_type": "code",
   "execution_count": null,
   "id": "needed-budget",
   "metadata": {},
   "outputs": [],
   "source": [
    "all_deltas = []\n",
    "\n",
    "for i in range(np.shape(vote_shares_by_district)[0]):\n",
    "    republican_vote_shares_by_district = vote_shares_by_district[i,:]\n",
    "    republican_won_districts = republican_vote_shares_by_district[republican_vote_shares_by_district >= 0.5]\n",
    "    democrat_won_districts = republican_vote_shares_by_district[republican_vote_shares_by_district < 0.5]\n",
    "    average_republican_margin = np.mean(republican_won_districts - 0.5)\n",
    "    average_democrat_margin = np.mean(0.5 - democrat_won_districts)\n",
    "    \n",
    "    delta = average_democrat_margin - average_republican_margin\n",
    "    all_deltas.append(delta)\n",
    "    \n",
    "\n",
    "plot_ensemble_histogram(all_deltas, \"$d$\", \"Counts\",)\n",
    "\n"
   ]
  },
  {
   "cell_type": "code",
   "execution_count": null,
   "id": "first-cleaning",
   "metadata": {},
   "outputs": [],
   "source": [
    "all_deltas = np.array(all_deltas)\n",
    "np.mean(all_deltas)"
   ]
  },
  {
   "cell_type": "code",
   "execution_count": null,
   "id": "eastern-copying",
   "metadata": {},
   "outputs": [],
   "source": []
  }
 ],
 "metadata": {
  "kernelspec": {
   "display_name": "Python 3",
   "language": "python",
   "name": "python3"
  },
  "language_info": {
   "codemirror_mode": {
    "name": "ipython",
    "version": 3
   },
   "file_extension": ".py",
   "mimetype": "text/x-python",
   "name": "python",
   "nbconvert_exporter": "python",
   "pygments_lexer": "ipython3",
   "version": "3.9.2"
  }
 },
 "nbformat": 4,
 "nbformat_minor": 5
}
