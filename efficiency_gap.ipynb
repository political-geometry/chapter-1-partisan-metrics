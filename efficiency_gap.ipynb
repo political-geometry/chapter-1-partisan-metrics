{
 "cells": [
  {
   "cell_type": "markdown",
   "metadata": {},
   "source": [
    "# Efficiency Gap\n",
    "\n",
    "The efficiency gap is the idea that the votes \"wasted\" by each party should be approximately equal. \n",
    "\n",
    "A wasted vote is one that doesn't directly contribute to winning an election. If Party A loses a district election, then all of their votes in that district were wasted. If Party A *wins* a district election, then its wasted votes are all the excess votes it could have won without. You can formulate the efficiency gap in a couple ways.\n",
    "\n",
    "### EG, district by district\n",
    "\n",
    "The first way to formulate EG is to go district by district and calculate cumulative wasted votes in each district. For parties A and B, this would be W_B and W_A. The efficiency gap in this case would be \n",
    "\n",
    "$$\n",
    "EG = \\frac{(W_B - W_A)}{T},\n",
    "$$\n",
    "\n",
    "\n",
    "where $T$ is the total number of votes. We'll tackle this version of EG in the cells below.\n"
   ]
  },
  {
   "cell_type": "code",
   "execution_count": 1,
   "metadata": {},
   "outputs": [],
   "source": [
    "# But first, let's define a helper function to read in our data.\n",
    "\n",
    "import pandas as pd\n",
    "import numpy as np\n",
    "\n",
    "historical_elections = pd.read_csv('data/1976-2018-house.csv', encoding = \"ISO-8859-1\")  # Load MIT Election Lab Data\n",
    "\n",
    "# We want to get the number of votes for Republicans and Democrats in each election.\n",
    "\n",
    "def get_two_party_votes(state, year):\n",
    "    in_state = historical_elections['state_po'] == state\n",
    "    in_year = historical_elections[\"year\"] == year\n",
    "\n",
    "    results_in_state_and_year = historical_elections[in_state & in_year]\n",
    "    \n",
    "    in_republican_party = results_in_state_and_year['party'] == \"republican\"\n",
    "    in_democratic_party = (results_in_state_and_year['party'] == \"democrat\") | (results_in_state_and_year['party'] == \"democratic-farmer-labor\")\n",
    "    not_a_write_in = results_in_state_and_year['writein'] == False\n",
    "    \n",
    "    number_of_districts = np.amax(results_in_state_and_year['district'])\n",
    "    \n",
    "    district_offset = 1\n",
    "    if number_of_districts == 0:\n",
    "        number_of_districts = 1\n",
    "        district_offset = 0\n",
    "\n",
    "    republican_votes_by_district = []\n",
    "    democrat_votes_by_district = []\n",
    "\n",
    "    for i in range(number_of_districts):\n",
    "        in_district = results_in_state_and_year['district'] == i + district_offset\n",
    "\n",
    "        republican_in_district = results_in_state_and_year[in_district & in_republican_party & not_a_write_in]\n",
    "        republican_candidates = republican_in_district['candidate'].values\n",
    "\n",
    "        if len(republican_candidates) == 0:\n",
    "            print('Warning! No Republican candidate in ' + state + ' District ' + str(i + 1) + ' in ' + str(year))\n",
    "            republican_votes_by_district.append(0)\n",
    "        else:\n",
    "            # The next lines are to handle the way New York's data is reported: \n",
    "            matches_candidate_name = results_in_state_and_year['candidate'] == republican_in_district['candidate'].values[0]\n",
    "            republican_in_district = results_in_state_and_year[in_district & matches_candidate_name & not_a_write_in]\n",
    "            all_votes_for_candidate_str = republican_in_district['candidatevotes'].values\n",
    "            all_votes_for_candidate = [int(vote) for vote in all_votes_for_candidate_str] \n",
    "            republican_vote = np.sum(np.array(all_votes_for_candidate))\n",
    "            republican_votes_by_district.append(republican_vote)\n",
    "\n",
    "        democrat_in_district = results_in_state_and_year[in_district & in_democratic_party]\n",
    "        democrat_candidates = democrat_in_district['candidate'].values\n",
    "\n",
    "        if len(democrat_candidates) == 0:\n",
    "            print('Warning! No Democrat candidate in ' + state + ' District ' + str(i + 1) + ' in ' + str(year))\n",
    "            democrat_votes_by_district.append(0)\n",
    "        else:\n",
    "            # The next lines are to handle the way New York's data is reported: \n",
    "            matches_candidate_name = results_in_state_and_year['candidate'] == democrat_in_district['candidate'].values[0]\n",
    "            democrat_in_district = results_in_state_and_year[in_district & matches_candidate_name & not_a_write_in]\n",
    "            all_votes_for_candidate_str = democrat_in_district['candidatevotes'].values\n",
    "            all_votes_for_candidate = [int(vote) for vote in all_votes_for_candidate_str] \n",
    "            democrat_vote = np.sum(np.array(all_votes_for_candidate))\n",
    "            democrat_votes_by_district.append(democrat_vote)\n",
    "\n",
    "\n",
    "        if republican_votes_by_district[-1] == 0 and democrat_votes_by_district[-1] == 0:\n",
    "            print('Warning! No votes registered in ' + state + ' District ' + str(i + 1) + ' in ' + str(year))\n",
    "\n",
    "    return republican_votes_by_district, democrat_votes_by_district"
   ]
  },
  {
   "cell_type": "markdown",
   "metadata": {},
   "source": [
    "### Summarizing district vote waste\n",
    "\n",
    "The cell below reads in the data for a state and year and prints a table summarizing the vote waste by district. It also prints the efficiency gap. A negative efficiency gap here means Democrats are the favored party; positive means Republicans are favored. "
   ]
  },
  {
   "cell_type": "code",
   "execution_count": 2,
   "metadata": {},
   "outputs": [
    {
     "name": "stdout",
     "output_type": "stream",
     "text": [
      "       District    Votes for R    Votes for D    Total R + D  Needed to win    Wasted by R    Wasted by D\n",
      "              1        166,524        169,071        335,595        167,798        166,524          1,273\n",
      "              2        173,970        167,315        341,285        170,643          3,327        167,315\n",
      "              3        223,075        169,238        392,313        196,157         26,918        169,238\n",
      "              4        121,033        203,299        324,332        162,166        121,033         41,133\n",
      "              5         80,660        249,957        330,617        165,309         80,660         84,648\n",
      "              6        235,385        123,010        358,395        179,198         56,187        123,010\n",
      "              7        156,944        173,572        330,516        165,258        156,944          8,314\n",
      "              8        177,088        179,097        356,185        178,093        177,088          1,004\n",
      "          Total      1,334,679      1,434,559      2,769,238                       788,681        595,935\n",
      "\n",
      " Efficiency gap:  -0.0696\n"
     ]
    }
   ],
   "source": [
    "%run utilities\n",
    "\n",
    "state = \"MN\"\n",
    "year = 2016\n",
    "\n",
    "rep_votes_by_district, dem_votes_by_district = get_two_party_votes(state, year)\n",
    "\n",
    "make_wasted_votes_table_for_state(rep_votes_by_district, dem_votes_by_district)"
   ]
  },
  {
   "cell_type": "markdown",
   "metadata": {},
   "source": [
    "The script below calculates $EG$ in this way, and you can use it to calculate the EG for a given state and year."
   ]
  },
  {
   "cell_type": "code",
   "execution_count": 3,
   "metadata": {},
   "outputs": [
    {
     "name": "stdout",
     "output_type": "stream",
     "text": [
      "In NC in 2016, the efficiency gap was 0.194.\n"
     ]
    }
   ],
   "source": [
    "\n",
    "def get_eg_wasted_votes(republican_votes_by_district, democrat_votes_by_district):\n",
    "    \n",
    "    cumulative_wasted_r_votes = 0\n",
    "    cumulative_wasted_d_votes = 0\n",
    "    total_votes_in_state = np.sum(republican_votes_by_district) + np.sum(democrat_votes_by_district)\n",
    "    \n",
    "    for i in range(len(republican_votes_by_district)):\n",
    "        district = i + 1\n",
    "        votes_for_r = republican_votes_by_district[i]\n",
    "        votes_for_d = democrat_votes_by_district[i]\n",
    "        total_votes_in_district = republican_votes_by_district[i] + democrat_votes_by_district[i]\n",
    "        needed_to_win = int(np.ceil(total_votes_in_district/2))\n",
    "        \n",
    "        if votes_for_r >= needed_to_win:\n",
    "            wasted_by_r = votes_for_r - needed_to_win\n",
    "            wasted_by_d = votes_for_d\n",
    "        else:\n",
    "            wasted_by_d = votes_for_d - needed_to_win\n",
    "            wasted_by_r = votes_for_r\n",
    "        \n",
    "        cumulative_wasted_r_votes = cumulative_wasted_r_votes + wasted_by_r\n",
    "        cumulative_wasted_d_votes = cumulative_wasted_d_votes + wasted_by_d\n",
    "        \n",
    "    return (cumulative_wasted_d_votes - cumulative_wasted_r_votes)/total_votes_in_state\n",
    "    \n",
    "    \n",
    "state = \"NC\"\n",
    "year = 2016\n",
    "\n",
    "rep_votes_by_district, dem_votes_by_district = get_two_party_votes(state, year)\n",
    "\n",
    "efficiency_gap = get_eg_wasted_votes(rep_votes_by_district, dem_votes_by_district)\n",
    "print(\"In \" + state + \" in \" + str(year) + \", the efficiency gap was \" + str(round(efficiency_gap,3)) + \".\")"
   ]
  },
  {
   "cell_type": "markdown",
   "metadata": {},
   "source": [
    "### EG, assuming equal turnout\n",
    "\n",
    "The second way to formulate $EG$ is to assume that all districts have the same turnout. In this case, the number of votes it takes to win a district is $\\frac{T}{2N}$ where $N$ is the number of districts.\n",
    "\n",
    "Since Republicans won $SN$ of the seats, the number of votes they _didn't_ waste is $\\frac{SN(T)}{2N} = \\frac{ST}{2}$.\n",
    "\n",
    "The total votes cast by Republicans is $VT$, the votes _wasted_ by Republicans are\n",
    "\n",
    "$$VT - \\frac{ST}{2} = \\frac{T(2V - S)}{2}$$\n",
    "\n",
    "The votes wasted by Democrats, in a similar calculation, can be shown to be $\\frac{T(1-2V + S)}{2}$\n",
    "\n",
    "Following $EG = \\frac{(W_D - W_R)}{T}$\n",
    "\n",
    "we get $$EG = \\frac{\\frac{(T(1-2V + S)}{2} - \\frac{T(2V - S)}{2}}{T} = \\left(S - \\frac{1}{2}\\right) - 2\\left(V - \\frac{1}{2}\\right),$$ or $$EG = S - 2V + \\frac{1}{2}.$$\n",
    "\n",
    "The two scripts below calculate $EG$ in this way and compare it to the first formalism in several states. "
   ]
  },
  {
   "cell_type": "code",
   "execution_count": 4,
   "metadata": {},
   "outputs": [],
   "source": [
    "\n",
    "def get_eg_seats_votes(republican_votes_by_district, democrat_votes_by_district):\n",
    "    \n",
    "    total_votes_in_state = np.sum(republican_votes_by_district) + np.sum(democrat_votes_by_district)\n",
    "    vote_differential = np.array(republican_votes_by_district) - np.array(democrat_votes_by_district) \n",
    "    seats_won_by_republicans = len(np.where(vote_differential > 0)[0].flatten())\n",
    "    total_republican_seat_share = seats_won_by_republicans/len(republican_votes_by_district)\n",
    "    \n",
    "    total_republican_vote_share = np.sum(republican_votes_by_district)/(total_votes_in_state)\n",
    "    return total_republican_seat_share - 2*total_republican_vote_share + 0.5 \n",
    "\n",
    "def make_table_comparing_eg_expressions(states):\n",
    "    year = 2016\n",
    "    row_format =\"{:>15}\" * (3)\n",
    "    print(row_format.format(\"State\", \"EG\", \"S - 2V + 1/2\"))\n",
    "    for state in states:\n",
    "        rep_votes_by_district, dem_votes_by_district = get_two_party_votes(state, year)\n",
    "        eg_wasted_votes = get_eg_wasted_votes(rep_votes_by_district, dem_votes_by_district)\n",
    "        eg_seats_votes = get_eg_seats_votes(rep_votes_by_district, dem_votes_by_district)\n",
    "\n",
    "        print(row_format.format(state,round(eg_wasted_votes,2),round(eg_seats_votes,2)))\n"
   ]
  },
  {
   "cell_type": "code",
   "execution_count": 5,
   "metadata": {},
   "outputs": [
    {
     "name": "stdout",
     "output_type": "stream",
     "text": [
      "          State             EG   S - 2V + 1/2\n",
      "             MD          -0.11          -0.12\n",
      "             MI           0.15           0.13\n",
      "             MN          -0.07          -0.09\n",
      "             MO           0.06           0.04\n",
      "             NC           0.19            0.2\n",
      "             NJ           0.06           -0.0\n",
      "             OH           0.11           0.09\n",
      "             TN          -0.01          -0.02\n"
     ]
    }
   ],
   "source": [
    "make_table_comparing_eg_expressions(['MD','MI','MN','MO','NC','NJ','OH','TN'])"
   ]
  },
  {
   "cell_type": "markdown",
   "metadata": {},
   "source": [
    "Right away, you might notice: these two ways of crafting EG can give you very different results! The reason is turnout. When you assume equal turnout, you make it so the expression for EG reduces to just seats and votes, but you lose an important dimension of the data. Turnout can vary hugely from district to district. \n",
    "\n",
    "An important implication of this is that the efficiency gap is hackable. The seat share for a party could increase without the vote share increasing, and, if turnout is unequal, the efficiency gap wouldn't notice. Similarly, the efficiency \n",
    "\n",
    "For a deeper dive on this, see [The Efficiency Gap, Voter Turnout, and the Efficiency Principle (Veomett, 2018)](https://arxiv.org/pdf/1801.05301.pdf).\n",
    "\n",
    "## Visualizing EG = 0\n",
    "\n",
    "Under our second formulation, an election with $EG = 0$ will lie on the line $(S - \\frac12) = 2(V - \\frac12)$. This means that $EG$ locates \"fairness\" on a line different from proportionality. In fact, proportional points far from (0.5, 0.5) will be outside a tolerance band around the $EG = 0$ line. \n",
    "\n",
    "In other words, enforcing $EG = 0$ means punishing proportionality for many vote shares. You can see this visualized in the plot below. \n"
   ]
  },
  {
   "cell_type": "code",
   "execution_count": 6,
   "metadata": {},
   "outputs": [
    {
     "data": {
      "image/png": "[encoded data removed]",
      "text/plain": [
       "<Figure size 600x400 with 1 Axes>"
      ]
     },
     "metadata": {
      "needs_background": "light"
     },
     "output_type": "display_data"
    }
   ],
   "source": [
    "plot_eg_band()"
   ]
  }
 ],
 "metadata": {
  "kernelspec": {
   "display_name": "Python 3",
   "language": "python",
   "name": "python3"
  },
  "language_info": {
   "codemirror_mode": {
    "name": "ipython",
    "version": 3
   },
   "file_extension": ".py",
   "mimetype": "text/x-python",
   "name": "python",
   "nbconvert_exporter": "python",
   "pygments_lexer": "ipython3",
   "version": "3.9.2"
  }
 },
 "nbformat": 4,
 "nbformat_minor": 4
}
