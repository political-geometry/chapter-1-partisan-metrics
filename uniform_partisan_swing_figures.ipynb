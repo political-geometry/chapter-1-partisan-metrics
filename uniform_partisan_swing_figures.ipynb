{
 "cells": [
  {
   "cell_type": "code",
   "execution_count": 107,
   "metadata": {},
   "outputs": [],
   "source": [
    "import numpy as np\n",
    "from math import *\n",
    "import matplotlib.pyplot as plt\n",
    "from PIL import Image, ImageDraw, ImageFont\n",
    "import tikzplotlib"
   ]
  },
  {
   "cell_type": "code",
   "execution_count": 108,
   "metadata": {},
   "outputs": [],
   "source": [
    "%run utilities"
   ]
  },
  {
   "cell_type": "code",
   "execution_count": 109,
   "metadata": {},
   "outputs": [],
   "source": [
    "def ups_logit(odds_and_total_by_district, num_districts, total_voting_population):\n",
    "    if verbose:\n",
    "        print(f\"Election: {election} ({num_districts} districts)\")\n",
    "        print(f\"Percentage voting R: {total_vote_share_for_republicans}\")\n",
    "        print(f\"Percentage of seats won by R: {seats_won_by_republicans}\")\n",
    "\n",
    "    # Vary statewide vote share for Republicans to generate UPS curves\n",
    "    # Approach: 1) sort districts in decreasing order of odds, since districts with largest odds can tolerate\n",
    "    # the largest swing against R, 2) Figure out the vote share where the odds factor is reciprocal (where\n",
    "    # the switch happens)\n",
    "\n",
    "    odds_and_total_by_district.sort(key=get_odds, reverse=True)\n",
    "\n",
    "    vote_swing_where_seat_flip_happens = [0] * (num_districts + 2)\n",
    "\n",
    "    for n in range(num_districts):\n",
    "        \n",
    "        votes_to_swing_R = 0\n",
    "        \n",
    "        for d in range(num_districts):\n",
    "            odds_in_first_district = odds_and_total_by_district[n][0]\n",
    "            odds_in_second_district = odds_and_total_by_district[d][0]\n",
    "\n",
    "            odds_ratio = odds_in_second_district / odds_in_first_district\n",
    "\n",
    "            total_votes_in_second_district = odds_and_total_by_district[d][1]\n",
    "            votes_to_swing_R += total_votes_in_second_district * odds_ratio / (odds_ratio + 1)\n",
    "\n",
    "        vote_swing_where_seat_flip_happens[n + 1] = ceil(votes_to_swing_R / total_voting_population * 100)\n",
    "\n",
    "    vote_swing_where_seat_flip_happens[num_districts + 1] = 100\n",
    "\n",
    "    votes = [x / float(100) for x in range(100)]\n",
    "    seats = [0.0] * 100\n",
    "\n",
    "    index = vote_swing_where_seat_flip_happens[1]\n",
    "\n",
    "    for number_of_districts_won in range(1, num_districts + 1):\n",
    "        while index < vote_swing_where_seat_flip_happens[number_of_districts_won + 1]:\n",
    "            seats[index] = number_of_districts_won / float(num_districts)\n",
    "            index += 1    \n",
    "            \n",
    "    median_mean_logit = 0.5 - np.median(vote_swing_where_seat_flip_happens) / 100\n",
    "\n",
    "    return votes, seats, median_mean_logit\n",
    "\n",
    "\n",
    "def ups_linear(vote_share_by_district):\n",
    "    num_divisions = 100\n",
    "    deltas = range(-int(num_divisions/2), int(num_divisions/2), 1)\n",
    "\n",
    "    seats = []\n",
    "    votes = []\n",
    "\n",
    "    for ds in deltas:\n",
    "        ds = float(ds) / num_divisions\n",
    "        new_election = np.array(vote_share_by_district) + np.ones(np.shape(vote_share_by_district)) * ds\n",
    "        new_election[new_election < 0] = 0\n",
    "        new_election[new_election > 1] = 1\n",
    "        new_vote = np.mean(new_election)\n",
    "        new_seats = len(np.where(np.array(new_election) > 0.5)[0]) / len(new_election)\n",
    "        seats.append(new_seats)\n",
    "        votes.append(new_vote)\n",
    "\n",
    "    median_mean_linear = np.median(vote_share_by_district) - np.mean(vote_share_by_district)\n",
    "\n",
    "    return votes, seats, median_mean_linear\n",
    "\n",
    "\n",
    "def add_partisan_symmetry(plt,seats_won_by_republicans, total_vote_share_for_republicans, seats, votes):\n",
    "    symmetric_v = 1 - total_vote_share_for_republicans\n",
    "    symmetric_s = 1 - seats_won_by_republicans\n",
    "    s_intersect_symmetric_interp = np.interp(symmetric_v, votes, seats)\n",
    "\n",
    "    if symmetric_s - s_intersect_symmetric_interp < 0:\n",
    "        s_intersect_symmetric = np.where(seats - s_intersect_symmetric_interp >= 0, seats, np.inf).min()\n",
    "\n",
    "    if symmetric_s - s_intersect_symmetric_interp > 0:\n",
    "        s_intersect_symmetric = np.where(seats - s_intersect_symmetric_interp <= 0, seats, -np.inf).max()\n",
    "\n",
    "    if symmetric_s == s_intersect_symmetric_interp:\n",
    "        s_intersect_symmetric = s_intersect_symmetric_interp\n",
    "\n",
    "    partisan_symmetry_x = [total_vote_share_for_republicans - metric_buffer, total_vote_share_for_republicans + metric_buffer, total_vote_share_for_republicans + metric_buffer,\n",
    "                           total_vote_share_for_republicans - metric_buffer]\n",
    "    partisan_symmetry_y = [1-s_intersect_symmetric, 1-s_intersect_symmetric, 1-symmetric_s, 1-symmetric_s]\n",
    "    plt.fill(partisan_symmetry_x, partisan_symmetry_y, '--', color=partisan_symmetry_color,edgecolor=partisan_symmetry_color, zorder=2)\n",
    "    return s_intersect_symmetric - symmetric_s\n",
    "    \n",
    "def add_mean_median(plt, votes, seats):\n",
    "    v_intersect = np.interp(0.5, seats, votes)\n",
    "\n",
    "    mean_median_x = [v_intersect, v_intersect, 0.5, 0.5]\n",
    "    mean_median_y = [0.5 - metric_buffer, 0.5 + metric_buffer, 0.5 + metric_buffer, 0.5 - metric_buffer]\n",
    "\n",
    "    plt.fill(mean_median_x, mean_median_y, '--', color=mean_median_color, edgecolor=mean_median_color,\n",
    "                     zorder=2)\n",
    "\n",
    "\n",
    "def add_partisan_bias(plt, votes, seats):\n",
    "    s_intersect = np.interp(0.5, votes, seats)\n",
    "\n",
    "    bias_x = [0.5 - metric_buffer, 0.5 + metric_buffer, 0.5 + metric_buffer,\n",
    "                  0.5 - metric_buffer]\n",
    "    bias_y = [s_intersect, s_intersect, 0.5, 0.5]\n",
    "        \n",
    "    plt.fill(bias_x, bias_y, '--', color=bias_color, edgecolor=bias_color, zorder=2)\n",
    "\n",
    "    \n",
    "def configure_plot(plt):\n",
    "    plt.xlim(x_range)\n",
    "    plt.ylim(y_range)\n",
    "\n",
    "    ax.spines['top'].set_visible(False)\n",
    "    ax.spines['right'].set_visible(False)\n",
    "\n",
    "    ax.set_xlabel(\"Fraction of votes for Republicans\", fontname=font_name, fontsize=font_size)\n",
    "    ax.set_ylabel(\"Fraction of seats won by Republicans\", fontname=font_name, fontsize=font_size)\n",
    "\n",
    "    ax.tick_params(axis='both', which='major', labelsize=14)\n",
    "    ax.tick_params(axis='both', which='minor', labelsize=12)\n",
    "\n",
    "    save_name_str = plot_settings_to_str(plot_ups, plot_bias, plot_mean_median, plot_partisan_symmetry)\n",
    "    plt.savefig(\"outputs/\" + election + save_name_str + '.png', dpi=500)\n",
    "\n",
    "    tikzplotlib.save(\"outputs/\" + election + save_name_str + \".tex\")\n",
    "\n",
    "    plt.show()\n",
    "    plt.close()\n",
    "\n",
    "\n",
    "def plot_all_elections_and_make_table():\n",
    "    print(f'\\n\\nElection & Partisan bias & Mean-median & Partisan symmetry  & Area between curves \\\\\\\\ ')\n",
    "    for election in all_elections:\n",
    "        partisan_bias, mean_median, partisan_symmetry, area_between_curves = make_partisan_symmetry_plots(election, plot_parameters)\n",
    "        print(f'{election} & {round(partisan_bias, 3)} & {round(mean_median, 3)} & {round(partisan_symmetry, 3)} & {round(area_between_curves,3)} \\\\\\\\')\n",
    "\n",
    "\n",
    "\n",
    "    \n",
    "def make_partisan_symmetry_plots(election, plot_parameters):\n",
    "\n",
    "    plot_ups = plot_parameters['plot_ups']\n",
    "    plot_bias = plot_parameters['plot_bias']\n",
    "    plot_partisan_symmetry = plot_parameters['plot_partisan_symmetry']\n",
    "    plot_mean_median = plot_parameters['plot_mean_median']\n",
    "\n",
    "    fig = plt.figure()\n",
    "    ax = fig.add_subplot(111)\n",
    "\n",
    "    districts_raw = open('data/' + election + '_districts_R_D.csv').read().split('\\n')\n",
    "    districts_raw = np.array([[float(item) for item in line.split(',')] for line in districts_raw])\n",
    "\n",
    "    # Get data about the election (votes and seats)\n",
    "    total_dem_votes = 0\n",
    "    total_rep_votes = 0\n",
    "    odds_and_total_by_district = []  \n",
    "\n",
    "    vote_share_by_district = []\n",
    "    seats_won_by_republicans = 0\n",
    "\n",
    "    for i in range(len(districts_raw)):\n",
    "        republicans_votes_in_district = districts_raw[i][0]\n",
    "        democrat_votes_in_district = districts_raw[i][1]\n",
    "\n",
    "        if republicans_votes_in_district + democrat_votes_in_district > 0:  # Ignore empty lines\n",
    "\n",
    "            total_rep_votes += republicans_votes_in_district\n",
    "            total_dem_votes += democrat_votes_in_district\n",
    "\n",
    "            odds_and_total_by_district.append([republicans_votes_in_district / democrat_votes_in_district,\n",
    "                                               republicans_votes_in_district + democrat_votes_in_district])\n",
    "            vote_share_by_district.append(\n",
    "                republicans_votes_in_district / (republicans_votes_in_district + democrat_votes_in_district))\n",
    "\n",
    "            if republicans_votes_in_district > democrat_votes_in_district:  # If Republicans won the district\n",
    "                seats_won_by_republicans += 1\n",
    "\n",
    "    num_districts = len(odds_and_total_by_district)\n",
    "    total_voting_population = total_dem_votes + total_rep_votes\n",
    "    total_vote_share_for_republicans = total_rep_votes / float(total_voting_population)\n",
    "    seats_won_by_republicans = seats_won_by_republicans / float(num_districts)\n",
    "\n",
    "    votes, seats, mean_median = ups_logit(odds_and_total_by_district, num_districts, total_voting_population)\n",
    "\n",
    "    # votes, seats, mean_median = ups_linear(vote_share_by_district)\n",
    "\n",
    "    partisan_bias = seats[50] - 0.5\n",
    "\n",
    "    plt.plot(x_range, [0.5, 0.5], color=grid_color, linewidth=background_line_width, zorder=-1)\n",
    "    plt.plot([0.5, 0.5], y_range, color=grid_color, linewidth=background_line_width, zorder=-1)\n",
    "\n",
    "    if plot_ups:\n",
    "        plt.step(votes, seats, color=ups_color, linewidth=ups_line_width, zorder=1)\n",
    "\n",
    "    plt.scatter([total_vote_share_for_republicans], [seats_won_by_republicans], color=actual_color,\n",
    "                edgecolors=actual_color, zorder=3, s=70)\n",
    "\n",
    "    if plot_bias:\n",
    "        add_partisan_bias(plt, votes, seats)\n",
    "\n",
    "    if plot_mean_median:\n",
    "        add_mean_median(plt, votes, seats)\n",
    "\n",
    "    partisan_symmetry = None\n",
    "    if plot_partisan_symmetry:\n",
    "        partisan_symmetry = add_partisan_symmetry(plt,seats_won_by_republicans, total_vote_share_for_republicans, seats, votes)\n",
    "\n",
    "    if not plot_ups:\n",
    "        plt.plot(x_range, y_range, '--', color=grid_color, linewidth=background_line_width, zorder=0)\n",
    "\n",
    "    area_between_curves = None\n",
    "    if plot_partisan_symmetry:\n",
    "        area_between_curves = flip_and_plot_partisan_symmetry(votes, seats)\n",
    "    \n",
    "    return partisan_bias, mean_median, partisan_symmetry, area_between_curves\n",
    "\n",
    "\n",
    "\n",
    "def get_odds(odds_pop_pair):\n",
    "    return odds_pop_pair[0]\n",
    "\n",
    "\n",
    "def flip_and_plot_partisan_symmetry(votes, seats):\n",
    "    reversed_votes = np.concatenate((np.flip(1 - np.array(votes[:-1])), np.array([1])))\n",
    "    reversed_seats = np.flip(1 - np.array(seats[:]))\n",
    "\n",
    "    plt.step(reversed_votes, reversed_seats, color=ups_color_reversed, linewidth=ups_line_width, zorder=1)\n",
    "    cumulative_sum = 0\n",
    "    for i in range(len(reversed_votes) - 2):\n",
    "        x = [reversed_votes[i], reversed_votes[i], votes[i+1], votes[i+1]]\n",
    "        y = [reversed_seats[i], seats[i+2], seats[i+2], reversed_seats[i]]\n",
    "        plt.fill(x, y, facecolor=ups_color_shaded)\n",
    "        if 0.4 <= votes[i + 1] <= 0.6:\n",
    "\n",
    "            area = fabs(reversed_votes[i] - votes[i+1])*fabs(reversed_seats[i] - seats[i+2])\n",
    "\n",
    "            # This is signed \n",
    "            if reversed_seats[i] <= seats[i+2]:\n",
    "                cumulative_sum = cumulative_sum + area\n",
    "            else:\n",
    "                cumulative_sum = cumulative_sum - area\n",
    "\n",
    "    plt.xlim(x_range)\n",
    "    plt.ylim(y_range)\n",
    "\n",
    "    return cumulative_sum\n"
   ]
  },
  {
   "cell_type": "code",
   "execution_count": 110,
   "metadata": {},
   "outputs": [],
   "source": [
    "all_elections = [\"IN_2016\", \"MD_2016\", \"MI_2016\", \"MN_2016\", \"MO_2016\", \"NJ_2016\", \"OH_2016\"]\n",
    "\n",
    "x_buff = 0.05\n",
    "y_buff = 0.05\n",
    "metric_buffer = 0.008\n",
    "\n",
    "x_range = [-x_buff, 1 + x_buff]\n",
    "y_range = [-y_buff, 1 + y_buff]\n",
    "font_name = 'Helvetica'\n",
    "font_size = 15\n",
    "verbose = False"
   ]
  },
  {
   "cell_type": "code",
   "execution_count": 111,
   "metadata": {},
   "outputs": [
    {
     "data": {
      "text/plain": [
       "(0.16666666666666663, 0.03999999999999998, None, None)"
      ]
     },
     "execution_count": 111,
     "metadata": {},
     "output_type": "execute_result"
    },
    {
     "data": {
      "image/png": "[encoded data removed]",
      "text/plain": [
       "<Figure size 432x288 with 1 Axes>"
      ]
     },
     "metadata": {
      "needs_background": "light"
     },
     "output_type": "display_data"
    }
   ],
   "source": [
    "election = \"IN_2016\"\n",
    "plot_parameters = {'plot_ups': False, 'plot_bias': False, 'plot_partisan_symmetry': False, 'plot_mean_median': False}\n",
    "make_partisan_symmetry_plots(election, plot_parameters)\n"
   ]
  },
  {
   "cell_type": "code",
   "execution_count": 112,
   "metadata": {},
   "outputs": [
    {
     "data": {
      "text/plain": [
       "(0.16666666666666663, 0.03999999999999998, None, None)"
      ]
     },
     "execution_count": 112,
     "metadata": {},
     "output_type": "execute_result"
    },
    {
     "data": {
      "image/png": "[encoded data removed]",
      "text/plain": [
       "<Figure size 432x288 with 1 Axes>"
      ]
     },
     "metadata": {
      "needs_background": "light"
     },
     "output_type": "display_data"
    }
   ],
   "source": [
    "plot_parameters = {'plot_ups': True, 'plot_bias': False, 'plot_partisan_symmetry': False, 'plot_mean_median': False}\n",
    "make_partisan_symmetry_plots(election, plot_parameters)"
   ]
  },
  {
   "cell_type": "code",
   "execution_count": 113,
   "metadata": {},
   "outputs": [
    {
     "data": {
      "text/plain": [
       "(0.16666666666666663, 0.03999999999999998, 0.0, 0.044444444444444425)"
      ]
     },
     "execution_count": 113,
     "metadata": {},
     "output_type": "execute_result"
    },
    {
     "data": {
      "image/png": "[encoded data removed]",
      "text/plain": [
       "<Figure size 432x288 with 1 Axes>"
      ]
     },
     "metadata": {
      "needs_background": "light"
     },
     "output_type": "display_data"
    }
   ],
   "source": [
    "\n",
    "plot_parameters = {'plot_ups': True, 'plot_bias': False, 'plot_partisan_symmetry': True, 'plot_mean_median': False}\n",
    "make_partisan_symmetry_plots(election, plot_parameters)\n"
   ]
  },
  {
   "cell_type": "code",
   "execution_count": 114,
   "metadata": {},
   "outputs": [
    {
     "data": {
      "text/plain": [
       "(0.16666666666666663, 0.03999999999999998, 0.0, 0.044444444444444425)"
      ]
     },
     "execution_count": 114,
     "metadata": {},
     "output_type": "execute_result"
    },
    {
     "data": {
      "image/png": "[encoded data removed]",
      "text/plain": [
       "<Figure size 432x288 with 1 Axes>"
      ]
     },
     "metadata": {
      "needs_background": "light"
     },
     "output_type": "display_data"
    }
   ],
   "source": [
    "plot_parameters = {'plot_ups': True, 'plot_bias': True, 'plot_partisan_symmetry': True, 'plot_mean_median': True}\n",
    "make_partisan_symmetry_plots(election, plot_parameters)\n"
   ]
  },
  {
   "cell_type": "code",
   "execution_count": null,
   "metadata": {},
   "outputs": [],
   "source": []
  },
  {
   "cell_type": "code",
   "execution_count": null,
   "metadata": {},
   "outputs": [],
   "source": []
  }
 ],
 "metadata": {
  "kernelspec": {
   "display_name": "Python 3",
   "language": "python",
   "name": "python3"
  },
  "language_info": {
   "codemirror_mode": {
    "name": "ipython",
    "version": 3
   },
   "file_extension": ".py",
   "mimetype": "text/x-python",
   "name": "python",
   "nbconvert_exporter": "python",
   "pygments_lexer": "ipython3",
   "version": "3.8.1"
  }
 },
 "nbformat": 4,
 "nbformat_minor": 4
}
